{
 "cells": [
  {
   "cell_type": "markdown",
   "metadata": {},
   "source": [
    "# Module import"
   ]
  },
  {
   "cell_type": "code",
   "execution_count": 1,
   "metadata": {},
   "outputs": [],
   "source": [
    "from ETGEMs_function import *"
   ]
  },
  {
   "cell_type": "markdown",
   "metadata": {},
   "source": [
    "# Data initialization"
   ]
  },
  {
   "cell_type": "code",
   "execution_count": 2,
   "metadata": {},
   "outputs": [],
   "source": [
    "import pandas as pd\n",
    "import cobra\n",
    "#Get Reaction G0 from local file\n",
    "reaction_g0_file='./Basic Data/reaction_g0.txt'\n",
    "#Get Metabolite concentration from local file\n",
    "metabolites_lnC_file = './Basic Data/metabolites_lnC.txt'\n",
    "#Get Model from local file\n",
    "model_file='./Basic Data/iML1515.xml'\n",
    "#Get reaction kcat data from ECMpy\n",
    "reaction_kcat_MW_file='./Basic Data/ID_kcat_MW_file.csv'\n",
    "\n",
    "Concretemodel_Need_Data=Get_Concretemodel_Need_Data(reaction_g0_file,metabolites_lnC_file,model_file,reaction_kcat_MW_file)"
   ]
  },
  {
   "cell_type": "markdown",
   "metadata": {},
   "source": [
    "# Calculation of thermodynamic driving force of reactions\n",
    "Without metabolite ratio constraints;\n",
    "K value eaual to (maxDFi-minDFi)."
   ]
  },
  {
   "cell_type": "code",
   "execution_count": 3,
   "metadata": {
    "tags": []
   },
   "outputs": [
    {
     "output_type": "stream",
     "name": "stdout",
     "text": "0:22:44.249949\nMax Df : 828.958488834085\nMin Df : -419.46287974197605\nK : 1248.421368576061\n"
    }
   ],
   "source": [
    "import pandas as pd\n",
    "import numpy as np\n",
    "import datetime\n",
    "from pyomo.environ import *\n",
    "from pyomo.opt import SolverFactory\n",
    "import pyomo.environ as pyo\n",
    "from concurrent.futures import ProcessPoolExecutor, as_completed\n",
    "starttime = datetime.datetime.now()\n",
    "max_min_Df_list=pd.DataFrame()\n",
    "\n",
    "#Maximize (DFi), without metabolites ratio constraint\n",
    "with ProcessPoolExecutor() as executor:\n",
    "    futures = {executor.submit(Get_Max_Min_Df,Concretemodel_Need_Data,eachreaction,'maximize','gurobi'): eachreaction for eachreaction in list(Concretemodel_Need_Data['reaction_g0'].index)}\n",
    "    for future in as_completed(futures):\n",
    "        tmp=future.result()\n",
    "        for eachindex in tmp.index:\n",
    "            #print(eachindex,tmp.loc[eachindex,'max_value'])\n",
    "            max_min_Df_list.loc[eachindex,'max_value']=tmp.loc[eachindex,'max_value']\n",
    "#Minimize (DFi), without metabolites ratio constraint\n",
    "with ProcessPoolExecutor() as executor:\n",
    "    futures = {executor.submit(Get_Max_Min_Df,Concretemodel_Need_Data,eachreaction,'minimize','gurobi'): eachreaction for eachreaction in list(Concretemodel_Need_Data['reaction_g0'].index)}\n",
    "    for future in as_completed(futures):\n",
    "        tmp=future.result()\n",
    "        for eachindex in tmp.index:\n",
    "            #print(eachindex,tmp.loc[eachindex,'max_value'])\n",
    "            max_min_Df_list.loc[eachindex,'min_value']=tmp.loc[eachindex,'min_value']\n",
    "\n",
    "max_min_Df_list['diff']=max_min_Df_list['max_value']-max_min_Df_list['min_value']\n",
    "endtime = datetime.datetime.now()\n",
    "print (endtime - starttime)\n",
    "max_min_Df_list.to_csv('./Analysis Result/max_min_Df_list_no_fixed_ratio.csv', sep=',', header=True, index=True,mode='w')\n",
    "print(\"Max Df : \"+str(np.max(max_min_Df_list['max_value'])))\n",
    "print(\"Min Df : \"+str(np.min(max_min_Df_list['min_value'])))\n",
    "print(\"K : \"+str(np.max(max_min_Df_list['max_value'])-np.min(max_min_Df_list['min_value'])))"
   ]
  },
  {
   "cell_type": "markdown",
   "metadata": {},
   "source": [
    "# Calculation of thermodynamic driving force for reactions¶\n",
    " Under constraints of several fixed metabolite ratio."
   ]
  },
  {
   "cell_type": "code",
   "execution_count": 4,
   "metadata": {
    "tags": []
   },
   "outputs": [
    {
     "output_type": "stream",
     "name": "stdout",
     "text": "0:22:43.632193\nMax Df : 828.958488834085\nMin Df : -419.46287974197605\nK : 1248.421368576061\n"
    }
   ],
   "source": [
    "import pandas as pd\n",
    "import numpy as np\n",
    "import datetime\n",
    "from pyomo.environ import *\n",
    "from pyomo.opt import SolverFactory\n",
    "import pyomo.environ as pyo\n",
    "from concurrent.futures import ProcessPoolExecutor, as_completed\n",
    "starttime = datetime.datetime.now()\n",
    "max_min_Df_list_fixed=pd.DataFrame()\n",
    "\n",
    "#Maximize (DFi), under metabolites ratio constraints\n",
    "with ProcessPoolExecutor() as executor:\n",
    "    futures = {executor.submit(Get_Max_Min_Df_Ratio,Concretemodel_Need_Data,eachreaction,'maximize','gurobi'): eachreaction for eachreaction in list(Concretemodel_Need_Data['reaction_g0'].index)}\n",
    "    for future in as_completed(futures):\n",
    "        tmp=future.result()\n",
    "        for eachindex in tmp.index:\n",
    "            #print(eachindex,tmp.loc[eachindex,'max_value'])\n",
    "            max_min_Df_list_fixed.loc[eachindex,'max_Df under fixed Ci ratio']=tmp.loc[eachindex,'max_value']\n",
    "#Minimize (DFi), under metabolites ratio constraints\n",
    "with ProcessPoolExecutor() as executor:\n",
    "    futures = {executor.submit(Get_Max_Min_Df_Ratio,Concretemodel_Need_Data,eachreaction,'minimize','gurobi'): eachreaction for eachreaction in list(Concretemodel_Need_Data['reaction_g0'].index)}\n",
    "    for future in as_completed(futures):\n",
    "        tmp=future.result()\n",
    "        for eachindex in tmp.index:\n",
    "            #print(eachindex,tmp.loc[eachindex,'max_value'])\n",
    "            max_min_Df_list_fixed.loc[eachindex,'min_Df under fixed Ci ratio']=tmp.loc[eachindex,'min_value']\n",
    "\n",
    "max_min_Df_list_fixed['diff under fixed Ci ratio']=max_min_Df_list_fixed['max_Df under fixed Ci ratio']-max_min_Df_list_fixed['min_Df under fixed Ci ratio']\n",
    "endtime = datetime.datetime.now()\n",
    "print (endtime - starttime)\n",
    "max_min_Df_list_fixed.to_csv('./Analysis Result/max_min_Df_list_fixed_ratio.csv', sep=',', header=True, index=True,mode='w')\n",
    "print(\"Max Df : \"+str(np.max(max_min_Df_list_fixed['max_Df under fixed Ci ratio'])))\n",
    "print(\"Min Df : \"+str(np.min(max_min_Df_list_fixed['min_Df under fixed Ci ratio'])))\n",
    "print(\"K : \"+str(np.max(max_min_Df_list_fixed['max_Df under fixed Ci ratio'])-np.min(max_min_Df_list_fixed['min_Df under fixed Ci ratio'])))"
   ]
  },
  {
   "cell_type": "markdown",
   "metadata": {
    "collapsed": true
   },
   "source": [
    "# Comparison of two groups data\n",
    "The results are shown in Table D in Supplementary file2."
   ]
  },
  {
   "cell_type": "code",
   "execution_count": 5,
   "metadata": {},
   "outputs": [
    {
     "output_type": "execute_result",
     "data": {
      "text/html": "<div>\n<style scoped>\n    .dataframe tbody tr th:only-of-type {\n        vertical-align: middle;\n    }\n\n    .dataframe tbody tr th {\n        vertical-align: top;\n    }\n\n    .dataframe thead th {\n        text-align: right;\n    }\n</style>\n<table border=\"1\" class=\"dataframe\">\n  <thead>\n    <tr style=\"text-align: right;\">\n      <th></th>\n      <th>max_value</th>\n      <th>min_value</th>\n      <th>diff</th>\n      <th>max_Df under fixed Ci ratio</th>\n      <th>min_Df under fixed Ci ratio</th>\n      <th>diff under fixed Ci ratio</th>\n    </tr>\n  </thead>\n  <tbody>\n    <tr>\n      <th>INOSTO_reverse</th>\n      <td>-349.353451</td>\n      <td>-419.462880</td>\n      <td>70.109429</td>\n      <td>-349.353451</td>\n      <td>-419.462880</td>\n      <td>70.109429</td>\n    </tr>\n    <tr>\n      <th>SHK3Dr_reverse</th>\n      <td>-22.642558</td>\n      <td>-131.957442</td>\n      <td>109.314884</td>\n      <td>-55.909646</td>\n      <td>-110.567088</td>\n      <td>54.657442</td>\n    </tr>\n    <tr>\n      <th>PCNO</th>\n      <td>-4.942558</td>\n      <td>-114.257442</td>\n      <td>109.314884</td>\n      <td>-38.209646</td>\n      <td>-92.867088</td>\n      <td>54.657442</td>\n    </tr>\n    <tr>\n      <th>E4PD_reverse</th>\n      <td>7.357442</td>\n      <td>-101.957442</td>\n      <td>109.314884</td>\n      <td>-25.909646</td>\n      <td>-80.567088</td>\n      <td>54.657442</td>\n    </tr>\n    <tr>\n      <th>ALDD19xr_reverse</th>\n      <td>13.557442</td>\n      <td>-95.757442</td>\n      <td>109.314884</td>\n      <td>-19.709646</td>\n      <td>-74.367088</td>\n      <td>54.657442</td>\n    </tr>\n    <tr>\n      <th>DXYLTD_reverse</th>\n      <td>-14.571279</td>\n      <td>-69.228721</td>\n      <td>54.657442</td>\n      <td>-14.571279</td>\n      <td>-69.228721</td>\n      <td>54.657442</td>\n    </tr>\n    <tr>\n      <th>RHMND_reverse</th>\n      <td>-14.571279</td>\n      <td>-69.228721</td>\n      <td>54.657442</td>\n      <td>-14.571279</td>\n      <td>-69.228721</td>\n      <td>54.657442</td>\n    </tr>\n    <tr>\n      <th>CBMKr</th>\n      <td>11.903974</td>\n      <td>-115.226011</td>\n      <td>127.129985</td>\n      <td>-9.486380</td>\n      <td>-81.958923</td>\n      <td>72.472543</td>\n    </tr>\n    <tr>\n      <th>GGGABADr_reverse</th>\n      <td>12.957442</td>\n      <td>-96.357442</td>\n      <td>109.314884</td>\n      <td>-8.432912</td>\n      <td>-63.090354</td>\n      <td>54.657442</td>\n    </tr>\n    <tr>\n      <th>DHBD_reverse</th>\n      <td>25.257442</td>\n      <td>-84.057442</td>\n      <td>109.314884</td>\n      <td>-8.009646</td>\n      <td>-62.667088</td>\n      <td>54.657442</td>\n    </tr>\n    <tr>\n      <th>ADK1_reverse</th>\n      <td>52.957442</td>\n      <td>-56.357442</td>\n      <td>109.314884</td>\n      <td>-7.638367</td>\n      <td>-7.638367</td>\n      <td>0.000000</td>\n    </tr>\n    <tr>\n      <th>NADHHR</th>\n      <td>-1.471279</td>\n      <td>-56.128721</td>\n      <td>54.657442</td>\n      <td>-7.409646</td>\n      <td>-56.128721</td>\n      <td>48.719075</td>\n    </tr>\n    <tr>\n      <th>NADHHS</th>\n      <td>-1.471279</td>\n      <td>-56.128721</td>\n      <td>54.657442</td>\n      <td>-7.409646</td>\n      <td>-56.128721</td>\n      <td>48.719075</td>\n    </tr>\n    <tr>\n      <th>HCO3E_reverse</th>\n      <td>25.479461</td>\n      <td>-23.815101</td>\n      <td>49.294562</td>\n      <td>-4.212373</td>\n      <td>-4.212373</td>\n      <td>0.000000</td>\n    </tr>\n    <tr>\n      <th>ALCD19_reverse</th>\n      <td>17.957442</td>\n      <td>-91.357442</td>\n      <td>109.314884</td>\n      <td>-3.432912</td>\n      <td>-58.090354</td>\n      <td>54.657442</td>\n    </tr>\n    <tr>\n      <th>GTHOr_reverse</th>\n      <td>29.968335</td>\n      <td>-106.675270</td>\n      <td>136.643605</td>\n      <td>-3.298753</td>\n      <td>-85.284916</td>\n      <td>81.986163</td>\n    </tr>\n    <tr>\n      <th>G3PD2</th>\n      <td>30.257442</td>\n      <td>-79.057442</td>\n      <td>109.314884</td>\n      <td>-3.009646</td>\n      <td>-57.667088</td>\n      <td>54.657442</td>\n    </tr>\n    <tr>\n      <th>DHFR_reverse</th>\n      <td>30.657442</td>\n      <td>-78.657442</td>\n      <td>109.314884</td>\n      <td>-2.609646</td>\n      <td>-57.267088</td>\n      <td>54.657442</td>\n    </tr>\n    <tr>\n      <th>DSERDHr</th>\n      <td>31.157442</td>\n      <td>-78.157442</td>\n      <td>109.314884</td>\n      <td>-2.109646</td>\n      <td>-56.767088</td>\n      <td>54.657442</td>\n    </tr>\n    <tr>\n      <th>PPM2_reverse</th>\n      <td>-1.571279</td>\n      <td>-56.228721</td>\n      <td>54.657442</td>\n      <td>-1.571279</td>\n      <td>-56.228721</td>\n      <td>54.657442</td>\n    </tr>\n    <tr>\n      <th>NADPHHR</th>\n      <td>-1.471279</td>\n      <td>-56.128721</td>\n      <td>54.657442</td>\n      <td>-1.471279</td>\n      <td>-50.190354</td>\n      <td>48.719075</td>\n    </tr>\n    <tr>\n      <th>NADPHHS</th>\n      <td>-1.471279</td>\n      <td>-56.128721</td>\n      <td>54.657442</td>\n      <td>-1.471279</td>\n      <td>-50.190354</td>\n      <td>48.719075</td>\n    </tr>\n    <tr>\n      <th>5DKGR_reverse</th>\n      <td>32.157442</td>\n      <td>-77.157442</td>\n      <td>109.314884</td>\n      <td>-1.109646</td>\n      <td>-55.767088</td>\n      <td>54.657442</td>\n    </tr>\n    <tr>\n      <th>KARA2_reverse</th>\n      <td>33.057442</td>\n      <td>-76.257442</td>\n      <td>109.314884</td>\n      <td>-0.209646</td>\n      <td>-54.867088</td>\n      <td>54.657442</td>\n    </tr>\n  </tbody>\n</table>\n</div>",
      "text/plain": "                   max_value   min_value        diff  \\\nINOSTO_reverse   -349.353451 -419.462880   70.109429   \nSHK3Dr_reverse    -22.642558 -131.957442  109.314884   \nPCNO               -4.942558 -114.257442  109.314884   \nE4PD_reverse        7.357442 -101.957442  109.314884   \nALDD19xr_reverse   13.557442  -95.757442  109.314884   \nDXYLTD_reverse    -14.571279  -69.228721   54.657442   \nRHMND_reverse     -14.571279  -69.228721   54.657442   \nCBMKr              11.903974 -115.226011  127.129985   \nGGGABADr_reverse   12.957442  -96.357442  109.314884   \nDHBD_reverse       25.257442  -84.057442  109.314884   \nADK1_reverse       52.957442  -56.357442  109.314884   \nNADHHR             -1.471279  -56.128721   54.657442   \nNADHHS             -1.471279  -56.128721   54.657442   \nHCO3E_reverse      25.479461  -23.815101   49.294562   \nALCD19_reverse     17.957442  -91.357442  109.314884   \nGTHOr_reverse      29.968335 -106.675270  136.643605   \nG3PD2              30.257442  -79.057442  109.314884   \nDHFR_reverse       30.657442  -78.657442  109.314884   \nDSERDHr            31.157442  -78.157442  109.314884   \nPPM2_reverse       -1.571279  -56.228721   54.657442   \nNADPHHR            -1.471279  -56.128721   54.657442   \nNADPHHS            -1.471279  -56.128721   54.657442   \n5DKGR_reverse      32.157442  -77.157442  109.314884   \nKARA2_reverse      33.057442  -76.257442  109.314884   \n\n                  max_Df under fixed Ci ratio  min_Df under fixed Ci ratio  \\\nINOSTO_reverse                    -349.353451                  -419.462880   \nSHK3Dr_reverse                     -55.909646                  -110.567088   \nPCNO                               -38.209646                   -92.867088   \nE4PD_reverse                       -25.909646                   -80.567088   \nALDD19xr_reverse                   -19.709646                   -74.367088   \nDXYLTD_reverse                     -14.571279                   -69.228721   \nRHMND_reverse                      -14.571279                   -69.228721   \nCBMKr                               -9.486380                   -81.958923   \nGGGABADr_reverse                    -8.432912                   -63.090354   \nDHBD_reverse                        -8.009646                   -62.667088   \nADK1_reverse                        -7.638367                    -7.638367   \nNADHHR                              -7.409646                   -56.128721   \nNADHHS                              -7.409646                   -56.128721   \nHCO3E_reverse                       -4.212373                    -4.212373   \nALCD19_reverse                      -3.432912                   -58.090354   \nGTHOr_reverse                       -3.298753                   -85.284916   \nG3PD2                               -3.009646                   -57.667088   \nDHFR_reverse                        -2.609646                   -57.267088   \nDSERDHr                             -2.109646                   -56.767088   \nPPM2_reverse                        -1.571279                   -56.228721   \nNADPHHR                             -1.471279                   -50.190354   \nNADPHHS                             -1.471279                   -50.190354   \n5DKGR_reverse                       -1.109646                   -55.767088   \nKARA2_reverse                       -0.209646                   -54.867088   \n\n                  diff under fixed Ci ratio  \nINOSTO_reverse                    70.109429  \nSHK3Dr_reverse                    54.657442  \nPCNO                              54.657442  \nE4PD_reverse                      54.657442  \nALDD19xr_reverse                  54.657442  \nDXYLTD_reverse                    54.657442  \nRHMND_reverse                     54.657442  \nCBMKr                             72.472543  \nGGGABADr_reverse                  54.657442  \nDHBD_reverse                      54.657442  \nADK1_reverse                       0.000000  \nNADHHR                            48.719075  \nNADHHS                            48.719075  \nHCO3E_reverse                      0.000000  \nALCD19_reverse                    54.657442  \nGTHOr_reverse                     81.986163  \nG3PD2                             54.657442  \nDHFR_reverse                      54.657442  \nDSERDHr                           54.657442  \nPPM2_reverse                      54.657442  \nNADPHHR                           48.719075  \nNADPHHS                           48.719075  \n5DKGR_reverse                     54.657442  \nKARA2_reverse                     54.657442  "
     },
     "metadata": {},
     "execution_count": 5
    }
   ],
   "source": [
    "max_min_Df_total_record=pd.concat([max_min_Df_list,max_min_Df_list_fixed],axis=1)\n",
    "max_min_Df_total_record=max_min_Df_total_record.sort_values(by='max_Df under fixed Ci ratio',ascending = True)\n",
    "max_min_Df_total_record=max_min_Df_total_record[max_min_Df_total_record['max_Df under fixed Ci ratio'] < 0]\n",
    "max_min_Df_total_record#.head(30)"
   ]
  },
  {
   "cell_type": "code",
   "execution_count": null,
   "metadata": {
    "collapsed": true
   },
   "outputs": [],
   "source": []
  }
 ],
 "metadata": {
  "kernelspec": {
   "display_name": "Python 3.5.5 64-bit ('ETGEMs': conda)",
   "language": "python",
   "name": "python_defaultSpec_1598853056453"
  },
  "language_info": {
   "codemirror_mode": {
    "name": "ipython",
    "version": 3
   },
   "file_extension": ".py",
   "mimetype": "text/x-python",
   "name": "python",
   "nbconvert_exporter": "python",
   "pygments_lexer": "ipython3",
   "version": "3.5.5-final"
  }
 },
 "nbformat": 4,
 "nbformat_minor": 2
}