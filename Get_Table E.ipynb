{
 "cells": [
  {
   "cell_type": "markdown",
   "metadata": {},
   "source": [
    "# Module import"
   ]
  },
  {
   "cell_type": "code",
   "execution_count": 1,
   "metadata": {},
   "outputs": [],
   "source": [
    "from ETGEMs_function import *"
   ]
  },
  {
   "cell_type": "markdown",
   "metadata": {},
   "source": [
    "# Data initialization"
   ]
  },
  {
   "cell_type": "code",
   "execution_count": 2,
   "metadata": {},
   "outputs": [],
   "source": [
    "import pandas as pd\n",
    "import cobra\n",
    "#Get Reaction G0 from local file\n",
    "reaction_g0_file='./Basic Data/reaction_g0.txt'\n",
    "#Get Metabolite concentration from local file\n",
    "metabolites_lnC_file = './Basic Data/metabolites_lnC.txt'\n",
    "#Get Model from local file\n",
    "model_file='./Basic Data/iML1515.xml'\n",
    "#Get reaction kcat data from ECMpy\n",
    "reaction_kcat_MW_file='./Basic Data/ID_kcat_MW_file.csv'\n",
    "\n",
    "Concretemodel_Need_Data=Get_Concretemodel_Need_Data(reaction_g0_file,metabolites_lnC_file,model_file,reaction_kcat_MW_file)"
   ]
  },
  {
   "cell_type": "markdown",
   "metadata": {},
   "source": [
    "# 1.MDF calculation\n",
    "Preset a lower growth rate, for example, when set \"biomass_value = 0.3\", and then get an MDF value (2.667); when set \"biomass_value = 0.7074\", and then get an MDF value (-14.571)."
   ]
  },
  {
   "cell_type": "code",
   "execution_count": 3,
   "metadata": {
    "tags": []
   },
   "outputs": [
    {
     "output_type": "stream",
     "name": "stdout",
     "text": "B value : -14.57128001843502\n"
    }
   ],
   "source": [
    "biomass_id='BIOMASS_Ec_iML1515_core_75p37M'\n",
    "E_total=0.114 #eaual to e_pool （0.228）* saturation（0.5）\n",
    "substrate_name='EX_glc__D_e_reverse'\n",
    "substrate_value=10\n",
    "biomass_value=0.7074\n",
    "K_value=1249\n",
    "\n",
    "B_value=MDF_Calculation(Concretemodel_Need_Data,biomass_value,biomass_id,substrate_name,substrate_value,K_value,E_total,'gurobi')\n",
    "print(\"B value : \" +str(B_value))"
   ]
  },
  {
   "cell_type": "markdown",
   "metadata": {},
   "source": [
    "# 2.Maximum growth rate calculation\n",
    "By taking the MDF above obtained as the lower bound of thermodynamic constraints."
   ]
  },
  {
   "cell_type": "code",
   "execution_count": 4,
   "metadata": {
    "tags": []
   },
   "outputs": [
    {
     "output_type": "stream",
     "name": "stdout",
     "text": "Max biomass value : 0.7073808171275947\n"
    }
   ],
   "source": [
    "obj_name='BIOMASS_Ec_iML1515_core_75p37M'\n",
    "obj_target='maximize'\n",
    "E_total=0.114 #eaual to e_pool （0.228）* saturation（0.5）\n",
    "substrate_name='EX_glc__D_e_reverse'\n",
    "substrate_value=10\n",
    "K_value=1249\n",
    "\n",
    "max_biomass_under_mdf=Max_Growth_Rate_Calculation(Concretemodel_Need_Data,obj_name,obj_target,substrate_name,substrate_value,K_value,E_total,B_value,'gurobi')\n",
    "print(\"Max biomass value : \" +str(max_biomass_under_mdf))"
   ]
  },
  {
   "cell_type": "markdown",
   "metadata": {},
   "source": [
    "# 3.Minimum enzyme cost calculation\n",
    "By fixing the MDF and maximum growth rate above obtained."
   ]
  },
  {
   "cell_type": "code",
   "execution_count": 5,
   "metadata": {
    "tags": []
   },
   "outputs": [
    {
     "output_type": "stream",
     "name": "stdout",
     "text": "Min enzyme amount : 0.11399266407250759\n"
    }
   ],
   "source": [
    "biomass_id='BIOMASS_Ec_iML1515_core_75p37M'\n",
    "E_total=0.114 #eaual to e_pool （0.228）* saturation（0.5）\n",
    "substrate_name='EX_glc__D_e_reverse'\n",
    "substrate_value=10\n",
    "biomass_value=max_biomass_under_mdf\n",
    "K_value=1249\n",
    "B_value=B_value\n",
    "\n",
    "min_E=Min_Enzyme_Cost_Calculation(Concretemodel_Need_Data,biomass_value,biomass_id,substrate_name,substrate_value,K_value,E_total,B_value,'gurobi')\n",
    "print(\"Min enzyme amount : \" +str(min_E))"
   ]
  },
  {
   "cell_type": "markdown",
   "metadata": {},
   "source": [
    "# 4.Minimum flux sum calculation（pFBA）\n",
    "Used to simplify the output file below"
   ]
  },
  {
   "cell_type": "code",
   "execution_count": 6,
   "metadata": {
    "tags": []
   },
   "outputs": [
    {
     "output_type": "stream",
     "name": "stdout",
     "text": "Min flux amount : 678.1337758616216\n"
    }
   ],
   "source": [
    "biomass_id='BIOMASS_Ec_iML1515_core_75p37M'\n",
    "E_total=0.114 #eaual to e_pool （0.228）* saturation（0.5）\n",
    "substrate_name='EX_glc__D_e_reverse'\n",
    "substrate_value=10\n",
    "biomass_value=max_biomass_under_mdf\n",
    "K_value=1249\n",
    "B_value=B_value\n",
    "\n",
    "[min_V,Concretemodel]=Min_Flux_Sum_Calculation(Concretemodel_Need_Data,biomass_value,biomass_id,substrate_name,substrate_value,K_value,E_total,B_value,'gurobi')\n",
    "print(\"Min flux amount : \" +str(min_V))"
   ]
  },
  {
   "cell_type": "markdown",
   "metadata": {},
   "source": [
    "# 5.Pathway information output\n",
    "It is used to extract the following various lists."
   ]
  },
  {
   "cell_type": "code",
   "execution_count": 7,
   "metadata": {
    "collapsed": true
   },
   "outputs": [],
   "source": [
    "model=Concretemodel_Need_Data['model']\n",
    "reaction_kcat_MW=Concretemodel_Need_Data['reaction_kcat_MW']\n",
    "reaction_g0=Concretemodel_Need_Data['reaction_g0']\n",
    "coef_matrix=Concretemodel_Need_Data['coef_matrix']\n",
    "metabolite_list=Concretemodel_Need_Data['metabolite_list']\n",
    "use_result = Get_Results_Thermodynamics(model,Concretemodel,reaction_kcat_MW,reaction_g0,coef_matrix,metabolite_list)\n",
    "use_result = use_result[use_result['flux'] > 1e-10] \n",
    "use_result = use_result.sort_values(by = 'flux',axis = 0,ascending = False)\n",
    "use_result[\"reaction\"] = use_result.apply(lambda row: model.reactions.get_by_id(row.name).reaction, axis = 1)\n",
    "use_result[\"gpr\"] = use_result.apply(lambda row: model.reactions.get_by_id(row.name).gene_reaction_rule, axis = 1)\n",
    "use_result.to_csv('./Analysis Result/' + str(round(max_biomass_under_mdf,3)) + '_' + str(round(B_value,3)) + '_' + str(round(min_E,3)) + '_EcoTCM_6-1.csv', sep=',', header=True, index=True,mode='w')"
   ]
  },
  {
   "cell_type": "markdown",
   "metadata": {},
   "source": [
    "# 6.List extraction of candidate bottleneck reactions\n",
    "Standard: the thermodynamic driving force (f) is equal to MDF value (B) above mentiond"
   ]
  },
  {
   "cell_type": "code",
   "execution_count": 8,
   "metadata": {},
   "outputs": [
    {
     "output_type": "execute_result",
     "data": {
      "text/plain": "              flux    z         f       enz  \\\nGAPD     16.837222  1.0 -14.57128  0.000121   \nTPI       7.823839  1.0 -14.57128  0.001902   \nMDH       3.554583  1.0 -14.57128  0.000069   \nTKT1      1.320979  1.0 -14.57128  0.000461   \nPGCD      1.216711  1.0 -14.57128  0.001086   \nPRPPS     0.660230  1.0 -14.57128  0.000296   \nCBMKr     0.443236  1.0 -14.57128  0.000106   \nIPMD      0.318697  1.0 -14.57128  0.000106   \nDHQTi     0.269596  1.0 -14.57128  0.000146   \nACACT5r   0.251743  1.0 -14.57128  0.000501   \n\n                                         met_concentration  \\\nGAPD     ;nadh_c : 0.0007084583731630467;pi_c : 4.99999...   \nTPI      ;g3p_c : 0.0019372800476507063;dhap_c : 5.7493...   \nMDH      ;oaa_c : 0.0013300845862784436;mal__L_c : 0.02...   \nTKT1     ;g3p_c : 0.0019372800476507063;s7p_c : 4.99999...   \nPGCD     ;3pg_c : 0.02000000000856292;nadh_c : 0.000708...   \nPRPPS    ;prpp_c : 0.0012362301025760926;amp_c : 5.4119...   \nCBMKr    ;h_c : 1.0;atp_c : 5.411968104158758e-05;cbp_c...   \nIPMD     ;3c4mop_c : 0.009661213454617063;3c2hmp_c : 0....   \nDHQTi    ;3dhq_c : 4.999999992621096e-07;h2o_c : 1.0;3d...   \nACACT5r  ;dcacoa_c : 4.999999992621096e-07;3oddcoa_c : ...   \n\n                                                  reaction             gpr  \nGAPD       g3p_c + nad_c + pi_c --> 13dpg_c + h_c + nadh_c           b1779  \nTPI                                       dhap_c --> g3p_c           b3919  \nMDH              mal__L_c + nad_c --> h_c + nadh_c + oaa_c           b3236  \nTKT1                   r5p_c + xu5p__D_c --> g3p_c + s7p_c  b2935 or b2465  \nPGCD               3pg_c + nad_c --> 3php_c + h_c + nadh_c           b2913  \nPRPPS               atp_c + r5p_c --> amp_c + h_c + prpp_c           b1207  \nCBMKr    atp_c + co2_c + nh4_c --> adp_c + cbp_c + 2.0 h_c           b0521  \nIPMD          3c2hmp_c + nad_c --> 3c4mop_c + h_c + nadh_c  b0073 or b1800  \nDHQTi                           3dhq_c --> 3dhsk_c + h2o_c           b1693  \nACACT5r           accoa_c + dcacoa_c --> 3oddcoa_c + coa_c  b3845 or b2342  ",
      "text/html": "<div>\n<style scoped>\n    .dataframe tbody tr th:only-of-type {\n        vertical-align: middle;\n    }\n\n    .dataframe tbody tr th {\n        vertical-align: top;\n    }\n\n    .dataframe thead th {\n        text-align: right;\n    }\n</style>\n<table border=\"1\" class=\"dataframe\">\n  <thead>\n    <tr style=\"text-align: right;\">\n      <th></th>\n      <th>flux</th>\n      <th>z</th>\n      <th>f</th>\n      <th>enz</th>\n      <th>met_concentration</th>\n      <th>reaction</th>\n      <th>gpr</th>\n    </tr>\n  </thead>\n  <tbody>\n    <tr>\n      <th>GAPD</th>\n      <td>16.837222</td>\n      <td>1.0</td>\n      <td>-14.57128</td>\n      <td>0.000121</td>\n      <td>;nadh_c : 0.0007084583731630467;pi_c : 4.99999...</td>\n      <td>g3p_c + nad_c + pi_c --&gt; 13dpg_c + h_c + nadh_c</td>\n      <td>b1779</td>\n    </tr>\n    <tr>\n      <th>TPI</th>\n      <td>7.823839</td>\n      <td>1.0</td>\n      <td>-14.57128</td>\n      <td>0.001902</td>\n      <td>;g3p_c : 0.0019372800476507063;dhap_c : 5.7493...</td>\n      <td>dhap_c --&gt; g3p_c</td>\n      <td>b3919</td>\n    </tr>\n    <tr>\n      <th>MDH</th>\n      <td>3.554583</td>\n      <td>1.0</td>\n      <td>-14.57128</td>\n      <td>0.000069</td>\n      <td>;oaa_c : 0.0013300845862784436;mal__L_c : 0.02...</td>\n      <td>mal__L_c + nad_c --&gt; h_c + nadh_c + oaa_c</td>\n      <td>b3236</td>\n    </tr>\n    <tr>\n      <th>TKT1</th>\n      <td>1.320979</td>\n      <td>1.0</td>\n      <td>-14.57128</td>\n      <td>0.000461</td>\n      <td>;g3p_c : 0.0019372800476507063;s7p_c : 4.99999...</td>\n      <td>r5p_c + xu5p__D_c --&gt; g3p_c + s7p_c</td>\n      <td>b2935 or b2465</td>\n    </tr>\n    <tr>\n      <th>PGCD</th>\n      <td>1.216711</td>\n      <td>1.0</td>\n      <td>-14.57128</td>\n      <td>0.001086</td>\n      <td>;3pg_c : 0.02000000000856292;nadh_c : 0.000708...</td>\n      <td>3pg_c + nad_c --&gt; 3php_c + h_c + nadh_c</td>\n      <td>b2913</td>\n    </tr>\n    <tr>\n      <th>PRPPS</th>\n      <td>0.660230</td>\n      <td>1.0</td>\n      <td>-14.57128</td>\n      <td>0.000296</td>\n      <td>;prpp_c : 0.0012362301025760926;amp_c : 5.4119...</td>\n      <td>atp_c + r5p_c --&gt; amp_c + h_c + prpp_c</td>\n      <td>b1207</td>\n    </tr>\n    <tr>\n      <th>CBMKr</th>\n      <td>0.443236</td>\n      <td>1.0</td>\n      <td>-14.57128</td>\n      <td>0.000106</td>\n      <td>;h_c : 1.0;atp_c : 5.411968104158758e-05;cbp_c...</td>\n      <td>atp_c + co2_c + nh4_c --&gt; adp_c + cbp_c + 2.0 h_c</td>\n      <td>b0521</td>\n    </tr>\n    <tr>\n      <th>IPMD</th>\n      <td>0.318697</td>\n      <td>1.0</td>\n      <td>-14.57128</td>\n      <td>0.000106</td>\n      <td>;3c4mop_c : 0.009661213454617063;3c2hmp_c : 0....</td>\n      <td>3c2hmp_c + nad_c --&gt; 3c4mop_c + h_c + nadh_c</td>\n      <td>b0073 or b1800</td>\n    </tr>\n    <tr>\n      <th>DHQTi</th>\n      <td>0.269596</td>\n      <td>1.0</td>\n      <td>-14.57128</td>\n      <td>0.000146</td>\n      <td>;3dhq_c : 4.999999992621096e-07;h2o_c : 1.0;3d...</td>\n      <td>3dhq_c --&gt; 3dhsk_c + h2o_c</td>\n      <td>b1693</td>\n    </tr>\n    <tr>\n      <th>ACACT5r</th>\n      <td>0.251743</td>\n      <td>1.0</td>\n      <td>-14.57128</td>\n      <td>0.000501</td>\n      <td>;dcacoa_c : 4.999999992621096e-07;3oddcoa_c : ...</td>\n      <td>accoa_c + dcacoa_c --&gt; 3oddcoa_c + coa_c</td>\n      <td>b3845 or b2342</td>\n    </tr>\n  </tbody>\n</table>\n</div>"
     },
     "metadata": {},
     "execution_count": 8
    }
   ],
   "source": [
    "use_result_tmp=use_result[use_result['f']>-1249]\n",
    "use_result_select=use_result_tmp[abs(use_result_tmp['f']-B_value)<=1e-05]\n",
    "use_result_select.head(10)"
   ]
  },
  {
   "cell_type": "code",
   "execution_count": 9,
   "metadata": {
    "collapsed": true
   },
   "outputs": [],
   "source": [
    "path_reac_list=list(use_result_select.index)"
   ]
  },
  {
   "cell_type": "markdown",
   "metadata": {},
   "source": [
    "# 7.Determination of bottleneck reaction\n",
    "Calculate the maximum thermodynamic driving force for reactions in above list, if the value is still equal to B, it is the bottleneck reaction."
   ]
  },
  {
   "cell_type": "code",
   "execution_count": 10,
   "metadata": {
    "tags": []
   },
   "outputs": [
    {
     "output_type": "stream",
     "name": "stdout",
     "text": "0:00:30.960323\n"
    }
   ],
   "source": [
    "import pandas as pd\n",
    "import numpy as np\n",
    "import datetime\n",
    "from pyomo.environ import *\n",
    "from pyomo.opt import SolverFactory\n",
    "import pyomo.environ as pyo\n",
    "from concurrent.futures import ProcessPoolExecutor, as_completed\n",
    "starttime = datetime.datetime.now()\n",
    "max_min_Df_list_fixed=pd.DataFrame()\n",
    "\n",
    "with ProcessPoolExecutor() as executor:\n",
    "    futures = {executor.submit(Get_Max_Min_Df_Complete,Concretemodel_Need_Data,eachreaction,'maximize',K_value,B_value,max_biomass_under_mdf,\\\n",
    "                               biomass_id,E_total,substrate_name,substrate_value,'gurobi'): eachreaction for eachreaction in path_reac_list}\n",
    "    for future in as_completed(futures):\n",
    "        tmp = future.result()\n",
    "        for eachindex in tmp.index:\n",
    "            #print(eachindex,tmp.loc[eachindex,'max_value'])\n",
    "            max_min_Df_list_fixed.loc[eachindex,'max_Df_complete']=tmp.loc[eachindex,'max_value']\n",
    "\n",
    "endtime = datetime.datetime.now()\n",
    "print (endtime - starttime)\n",
    "max_min_Df_list_fixed.to_csv('./Analysis Result/max_min_Df_complete_for_specific_reaction.csv', sep=',', header=True, index=True,mode='w')"
   ]
  },
  {
   "cell_type": "code",
   "execution_count": 11,
   "metadata": {},
   "outputs": [
    {
     "output_type": "execute_result",
     "data": {
      "text/plain": "                max_Df_complete\nDXYLTD_reverse       -14.571279\nCBMKr                 -9.486380\nPGCD                   1.567088\nMDH                    5.767088\nGLU5K                  6.467088\nPDX5PO2               10.767088\nIPMD                  15.467088\nGAPD                  18.777981\nDHORTS_reverse        20.828721\nTPI                   21.828721",
      "text/html": "<div>\n<style scoped>\n    .dataframe tbody tr th:only-of-type {\n        vertical-align: middle;\n    }\n\n    .dataframe tbody tr th {\n        vertical-align: top;\n    }\n\n    .dataframe thead th {\n        text-align: right;\n    }\n</style>\n<table border=\"1\" class=\"dataframe\">\n  <thead>\n    <tr style=\"text-align: right;\">\n      <th></th>\n      <th>max_Df_complete</th>\n    </tr>\n  </thead>\n  <tbody>\n    <tr>\n      <th>DXYLTD_reverse</th>\n      <td>-14.571279</td>\n    </tr>\n    <tr>\n      <th>CBMKr</th>\n      <td>-9.486380</td>\n    </tr>\n    <tr>\n      <th>PGCD</th>\n      <td>1.567088</td>\n    </tr>\n    <tr>\n      <th>MDH</th>\n      <td>5.767088</td>\n    </tr>\n    <tr>\n      <th>GLU5K</th>\n      <td>6.467088</td>\n    </tr>\n    <tr>\n      <th>PDX5PO2</th>\n      <td>10.767088</td>\n    </tr>\n    <tr>\n      <th>IPMD</th>\n      <td>15.467088</td>\n    </tr>\n    <tr>\n      <th>GAPD</th>\n      <td>18.777981</td>\n    </tr>\n    <tr>\n      <th>DHORTS_reverse</th>\n      <td>20.828721</td>\n    </tr>\n    <tr>\n      <th>TPI</th>\n      <td>21.828721</td>\n    </tr>\n  </tbody>\n</table>\n</div>"
     },
     "metadata": {},
     "execution_count": 11
    }
   ],
   "source": [
    "max_min_Df_list_fixed=max_min_Df_list_fixed.sort_values(by='max_Df_complete',ascending = True)\n",
    "max_min_Df_list_fixed.head(10)"
   ]
  },
  {
   "cell_type": "code",
   "execution_count": 12,
   "metadata": {},
   "outputs": [
    {
     "output_type": "execute_result",
     "data": {
      "text/plain": "                max_Df_complete\nDXYLTD_reverse       -14.571279",
      "text/html": "<div>\n<style scoped>\n    .dataframe tbody tr th:only-of-type {\n        vertical-align: middle;\n    }\n\n    .dataframe tbody tr th {\n        vertical-align: top;\n    }\n\n    .dataframe thead th {\n        text-align: right;\n    }\n</style>\n<table border=\"1\" class=\"dataframe\">\n  <thead>\n    <tr style=\"text-align: right;\">\n      <th></th>\n      <th>max_Df_complete</th>\n    </tr>\n  </thead>\n  <tbody>\n    <tr>\n      <th>DXYLTD_reverse</th>\n      <td>-14.571279</td>\n    </tr>\n  </tbody>\n</table>\n</div>"
     },
     "metadata": {},
     "execution_count": 12
    }
   ],
   "source": [
    "Bottleneck_reaction=max_min_Df_list_fixed[(max_min_Df_list_fixed['max_Df_complete']-B_value)<=0.001]\n",
    "Bottleneck_reaction"
   ]
  },
  {
   "cell_type": "code",
   "execution_count": 13,
   "metadata": {},
   "outputs": [
    {
     "output_type": "execute_result",
     "data": {
      "text/plain": "';2ddara_c : 0.019999992253620126;h2o_c : 1.0;dxylnt_c : 4.999999992621096e-07'"
     },
     "metadata": {},
     "execution_count": 13
    }
   ],
   "source": [
    "use_result_select.loc[Bottleneck_reaction.index[0],'met_concentration']"
   ]
  },
  {
   "cell_type": "markdown",
   "metadata": {},
   "source": [
    "# 8.List extraction of candidate limiting metabolites\n",
    "Standard: involved in bottleneck reactions, except fo water (h2o_c) and protons (h_c)."
   ]
  },
  {
   "cell_type": "code",
   "execution_count": 14,
   "metadata": {
    "tags": []
   },
   "outputs": [
    {
     "output_type": "execute_result",
     "data": {
      "text/plain": "['2ddara_c', 'dxylnt_c']"
     },
     "metadata": {},
     "execution_count": 14
    }
   ],
   "source": [
    "Bottleneck_reaction_lsit=list(Bottleneck_reaction.index)\n",
    "Bottleneck_reaction_met=[]\n",
    "for rea in model.reactions:\n",
    "    if rea.id in Bottleneck_reaction_lsit:\n",
    "        #print(rea)\n",
    "        for met in model.metabolites:\n",
    "            try:\n",
    "                rea.get_coefficient(met.id)  \n",
    "            except:\n",
    "                pass\n",
    "            else:\n",
    "                if met.id !='h_c' and met.id !='h2o_c':\n",
    "                    Bottleneck_reaction_met.append(met.id)\n",
    "                \n",
    "\n",
    "Bottleneck_reaction_met=list(set(Bottleneck_reaction_met))\n",
    "Bottleneck_reaction_met"
   ]
  },
  {
   "cell_type": "markdown",
   "metadata": {},
   "source": [
    "# 9.Determination of limitting metabolites\n",
    "Calculate the maximum and minimum concentrations for metabolites in above list, if the two values are equal, it is the limiting metabolite."
   ]
  },
  {
   "cell_type": "code",
   "execution_count": 15,
   "metadata": {
    "tags": []
   },
   "outputs": [
    {
     "output_type": "stream",
     "name": "stdout",
     "text": "0:00:14.717242\n"
    }
   ],
   "source": [
    "import pandas as pd\n",
    "import numpy as np\n",
    "import datetime\n",
    "from pyomo.environ import *\n",
    "from pyomo.opt import SolverFactory\n",
    "import pyomo.environ as pyo\n",
    "from concurrent.futures import ProcessPoolExecutor, as_completed\n",
    "starttime = datetime.datetime.now()\n",
    "max_min_concentration_list_fixed = pd.DataFrame()\n",
    "\n",
    "with ProcessPoolExecutor() as executor:\n",
    "    futures = {executor.submit(Get_Max_Min_Met_Concentration,Concretemodel_Need_Data,eachmet,'maximize',K_value,B_value,\\\n",
    "        max_biomass_under_mdf,biomass_id,E_total,substrate_name,substrate_value,list(Bottleneck_reaction.index),'gurobi'): eachmet for eachmet in Bottleneck_reaction_met}\n",
    "    for future in as_completed(futures):\n",
    "        tmp = future.result()\n",
    "        for eachindex in tmp.index:\n",
    "            #print(eachindex,tmp.loc[eachindex,'max_value'])\n",
    "            max_min_concentration_list_fixed.loc[eachindex,'max_concentration'] = tmp.loc[eachindex,'max_value']\n",
    "\n",
    "with ProcessPoolExecutor() as executor:\n",
    "    futures = {executor.submit(Get_Max_Min_Met_Concentration,Concretemodel_Need_Data,eachmet,'minimize',K_value,B_value,\\\n",
    "        max_biomass_under_mdf,biomass_id,E_total,substrate_name,substrate_value,list(Bottleneck_reaction.index),'gurobi'): eachmet for eachmet in Bottleneck_reaction_met}\n",
    "    for future in as_completed(futures):\n",
    "        tmp = future.result()\n",
    "        for eachindex in tmp.index:\n",
    "            #print(eachindex,tmp.loc[eachindex,'max_value'])\n",
    "            max_min_concentration_list_fixed.loc[eachindex,'min_concentration'] = tmp.loc[eachindex,'min_value']\n",
    "            \n",
    "endtime = datetime.datetime.now()\n",
    "print (endtime - starttime)\n",
    "max_min_concentration_list_fixed.to_csv('./Analysis Result/max_min_concentration_for_specific_metabolite.csv', sep=',', header=True, index=True,mode='w')\n"
   ]
  },
  {
   "cell_type": "code",
   "execution_count": 16,
   "metadata": {},
   "outputs": [
    {
     "output_type": "execute_result",
     "data": {
      "text/plain": "          max_concentration  min_concentration\n2ddara_c          -3.912023          -3.912023\ndxylnt_c         -14.508657         -14.508658",
      "text/html": "<div>\n<style scoped>\n    .dataframe tbody tr th:only-of-type {\n        vertical-align: middle;\n    }\n\n    .dataframe tbody tr th {\n        vertical-align: top;\n    }\n\n    .dataframe thead th {\n        text-align: right;\n    }\n</style>\n<table border=\"1\" class=\"dataframe\">\n  <thead>\n    <tr style=\"text-align: right;\">\n      <th></th>\n      <th>max_concentration</th>\n      <th>min_concentration</th>\n    </tr>\n  </thead>\n  <tbody>\n    <tr>\n      <th>2ddara_c</th>\n      <td>-3.912023</td>\n      <td>-3.912023</td>\n    </tr>\n    <tr>\n      <th>dxylnt_c</th>\n      <td>-14.508657</td>\n      <td>-14.508658</td>\n    </tr>\n  </tbody>\n</table>\n</div>"
     },
     "metadata": {},
     "execution_count": 16
    }
   ],
   "source": [
    "max_min_concentration_list_fixed"
   ]
  },
  {
   "cell_type": "code",
   "execution_count": 17,
   "metadata": {},
   "outputs": [
    {
     "output_type": "execute_result",
     "data": {
      "text/plain": "          max_concentration  min_concentration\n2ddara_c          -3.912023          -3.912023\ndxylnt_c         -14.508657         -14.508658",
      "text/html": "<div>\n<style scoped>\n    .dataframe tbody tr th:only-of-type {\n        vertical-align: middle;\n    }\n\n    .dataframe tbody tr th {\n        vertical-align: top;\n    }\n\n    .dataframe thead th {\n        text-align: right;\n    }\n</style>\n<table border=\"1\" class=\"dataframe\">\n  <thead>\n    <tr style=\"text-align: right;\">\n      <th></th>\n      <th>max_concentration</th>\n      <th>min_concentration</th>\n    </tr>\n  </thead>\n  <tbody>\n    <tr>\n      <th>2ddara_c</th>\n      <td>-3.912023</td>\n      <td>-3.912023</td>\n    </tr>\n    <tr>\n      <th>dxylnt_c</th>\n      <td>-14.508657</td>\n      <td>-14.508658</td>\n    </tr>\n  </tbody>\n</table>\n</div>"
     },
     "metadata": {},
     "execution_count": 17
    }
   ],
   "source": [
    "Limiting_metabolite = max_min_concentration_list_fixed[(max_min_concentration_list_fixed['max_concentration'] - max_min_concentration_list_fixed['min_concentration']) <= 0.001]\n",
    "Limiting_metabolite"
   ]
  },
  {
   "cell_type": "markdown",
   "metadata": {},
   "source": [
    "# 10.List extraction of candidate key enzymes\n",
    "Standard: The amount of enzyme usage was more than 0.228 mg/gDW （above 1% of e_pool）"
   ]
  },
  {
   "cell_type": "code",
   "execution_count": 18,
   "metadata": {},
   "outputs": [
    {
     "output_type": "execute_result",
     "data": {
      "text/plain": "                  flux    z           f       enz  \\\nPDH          12.298751  1.0    8.691833  0.006020   \nPPND          0.097703  1.0   16.263114  0.005071   \nADSS          0.211722  1.0   31.373570  0.004065   \nCS            2.172745  1.0   60.424530  0.003952   \nDDPA          0.269596  1.0  123.557442  0.003413   \nACONTa        2.172745  1.0   10.171279  0.003202   \nICL           1.404758  1.0   24.231666  0.003050   \nGND           4.381726  1.0   22.772542  0.002800   \nPGK_reverse  16.837222  1.0  -14.567088  0.002660   \nPFK           7.923796  1.0   12.223281  0.002304   \n\n                                             met_concentration  \\\nPDH          ;pyr_c : 1.3223265105347658e-05;nadh_c : 0.000...   \nPPND         ;34hpp_c : 0.02000000000856292;nadh_c : 0.0007...   \nADSS         ;imp_c : 0.02000000000856292;dcamp_c : 4.99999...   \nCS           ;h2o_c : 1.0;cit_c : 0.007337184970509802;acco...   \nDDPA         ;pep_c : 0.02000000000856292;h2o_c : 1.0;e4p_c...   \nACONTa       ;h2o_c : 1.0;cit_c : 0.007337184970509802;acon...   \nICL          ;succ_c : 4.999999992621096e-07;icit_c : 4.999...   \nGND          ;nadph_c : 0.02000000000856292;nadp_c : 0.0020...   \nPGK_reverse  ;3pg_c : 0.02000000000856292;adp_c : 5.4119681...   \nPFK          ;adp_c : 5.411968104158752e-06;f6p_c : 4.99999...   \n\n                                                      reaction  \\\nPDH          coa_c + nad_c + pyr_c --> accoa_c + co2_c + na...   \nPPND               nad_c + pphn_c --> 34hpp_c + co2_c + nadh_c   \nADSS         asp__L_c + gtp_c + imp_c --> dcamp_c + gdp_c +...   \nCS             accoa_c + h2o_c + oaa_c --> cit_c + coa_c + h_c   \nDDPA                 e4p_c + h2o_c + pep_c --> 2dda7p_c + pi_c   \nACONTa                              cit_c --> acon_C_c + h2o_c   \nICL                                  icit_c --> glx_c + succ_c   \nGND            6pgc_c + nadp_c --> co2_c + nadph_c + ru5p__D_c   \nPGK_reverse                  13dpg_c + adp_c --> 3pg_c + atp_c   \nPFK                      atp_c + f6p_c --> adp_c + fdp_c + h_c   \n\n                                   gpr  \nPDH          b0116 and b0115 and b0114  \nPPND                             b2600  \nADSS                             b4177  \nCS                               b0720  \nDDPA           b0754 or b2601 or b1704  \nACONTa                  b0118 or b1276  \nICL                              b4015  \nGND                              b2029  \nPGK_reverse                      b2926  \nPFK                     b3916 or b1723  ",
      "text/html": "<div>\n<style scoped>\n    .dataframe tbody tr th:only-of-type {\n        vertical-align: middle;\n    }\n\n    .dataframe tbody tr th {\n        vertical-align: top;\n    }\n\n    .dataframe thead th {\n        text-align: right;\n    }\n</style>\n<table border=\"1\" class=\"dataframe\">\n  <thead>\n    <tr style=\"text-align: right;\">\n      <th></th>\n      <th>flux</th>\n      <th>z</th>\n      <th>f</th>\n      <th>enz</th>\n      <th>met_concentration</th>\n      <th>reaction</th>\n      <th>gpr</th>\n    </tr>\n  </thead>\n  <tbody>\n    <tr>\n      <th>PDH</th>\n      <td>12.298751</td>\n      <td>1.0</td>\n      <td>8.691833</td>\n      <td>0.006020</td>\n      <td>;pyr_c : 1.3223265105347658e-05;nadh_c : 0.000...</td>\n      <td>coa_c + nad_c + pyr_c --&gt; accoa_c + co2_c + na...</td>\n      <td>b0116 and b0115 and b0114</td>\n    </tr>\n    <tr>\n      <th>PPND</th>\n      <td>0.097703</td>\n      <td>1.0</td>\n      <td>16.263114</td>\n      <td>0.005071</td>\n      <td>;34hpp_c : 0.02000000000856292;nadh_c : 0.0007...</td>\n      <td>nad_c + pphn_c --&gt; 34hpp_c + co2_c + nadh_c</td>\n      <td>b2600</td>\n    </tr>\n    <tr>\n      <th>ADSS</th>\n      <td>0.211722</td>\n      <td>1.0</td>\n      <td>31.373570</td>\n      <td>0.004065</td>\n      <td>;imp_c : 0.02000000000856292;dcamp_c : 4.99999...</td>\n      <td>asp__L_c + gtp_c + imp_c --&gt; dcamp_c + gdp_c +...</td>\n      <td>b4177</td>\n    </tr>\n    <tr>\n      <th>CS</th>\n      <td>2.172745</td>\n      <td>1.0</td>\n      <td>60.424530</td>\n      <td>0.003952</td>\n      <td>;h2o_c : 1.0;cit_c : 0.007337184970509802;acco...</td>\n      <td>accoa_c + h2o_c + oaa_c --&gt; cit_c + coa_c + h_c</td>\n      <td>b0720</td>\n    </tr>\n    <tr>\n      <th>DDPA</th>\n      <td>0.269596</td>\n      <td>1.0</td>\n      <td>123.557442</td>\n      <td>0.003413</td>\n      <td>;pep_c : 0.02000000000856292;h2o_c : 1.0;e4p_c...</td>\n      <td>e4p_c + h2o_c + pep_c --&gt; 2dda7p_c + pi_c</td>\n      <td>b0754 or b2601 or b1704</td>\n    </tr>\n    <tr>\n      <th>ACONTa</th>\n      <td>2.172745</td>\n      <td>1.0</td>\n      <td>10.171279</td>\n      <td>0.003202</td>\n      <td>;h2o_c : 1.0;cit_c : 0.007337184970509802;acon...</td>\n      <td>cit_c --&gt; acon_C_c + h2o_c</td>\n      <td>b0118 or b1276</td>\n    </tr>\n    <tr>\n      <th>ICL</th>\n      <td>1.404758</td>\n      <td>1.0</td>\n      <td>24.231666</td>\n      <td>0.003050</td>\n      <td>;succ_c : 4.999999992621096e-07;icit_c : 4.999...</td>\n      <td>icit_c --&gt; glx_c + succ_c</td>\n      <td>b4015</td>\n    </tr>\n    <tr>\n      <th>GND</th>\n      <td>4.381726</td>\n      <td>1.0</td>\n      <td>22.772542</td>\n      <td>0.002800</td>\n      <td>;nadph_c : 0.02000000000856292;nadp_c : 0.0020...</td>\n      <td>6pgc_c + nadp_c --&gt; co2_c + nadph_c + ru5p__D_c</td>\n      <td>b2029</td>\n    </tr>\n    <tr>\n      <th>PGK_reverse</th>\n      <td>16.837222</td>\n      <td>1.0</td>\n      <td>-14.567088</td>\n      <td>0.002660</td>\n      <td>;3pg_c : 0.02000000000856292;adp_c : 5.4119681...</td>\n      <td>13dpg_c + adp_c --&gt; 3pg_c + atp_c</td>\n      <td>b2926</td>\n    </tr>\n    <tr>\n      <th>PFK</th>\n      <td>7.923796</td>\n      <td>1.0</td>\n      <td>12.223281</td>\n      <td>0.002304</td>\n      <td>;adp_c : 5.411968104158752e-06;f6p_c : 4.99999...</td>\n      <td>atp_c + f6p_c --&gt; adp_c + fdp_c + h_c</td>\n      <td>b3916 or b1723</td>\n    </tr>\n  </tbody>\n</table>\n</div>"
     },
     "metadata": {},
     "execution_count": 18
    }
   ],
   "source": [
    "step5_file = pd.read_csv('./Analysis Result/' + str(round(max_biomass_under_mdf,3)) + '_' + str(round(B_value,3)) + '_' + str(round(min_E,3)) + '_EcoTCM_6-1.csv',index_col=0)\n",
    "step5_file_sort = step5_file.sort_values(by='enz',ascending = False)\n",
    "step5_file_sort.head(10)"
   ]
  },
  {
   "cell_type": "code",
   "execution_count": 19,
   "metadata": {
    "collapsed": true
   },
   "outputs": [],
   "source": [
    "enz_use_reaction_list = list(step5_file_sort[step5_file_sort['enz'] > 0.00114].index)\n",
    "#enz_use_reaction_list"
   ]
  },
  {
   "cell_type": "markdown",
   "metadata": {},
   "source": [
    "# 11.Determination of key enzymes.\n",
    "Calculate the minimum enzyme cost for reactions in above list, and the higher the value, the more critical (key) the enzyme."
   ]
  },
  {
   "cell_type": "code",
   "execution_count": 20,
   "metadata": {
    "tags": []
   },
   "outputs": [
    {
     "output_type": "stream",
     "name": "stdout",
     "text": "0:01:17.426127\n"
    }
   ],
   "source": [
    "import pandas as pd\n",
    "import numpy as np\n",
    "import datetime\n",
    "from pyomo.environ import *\n",
    "from pyomo.opt import SolverFactory\n",
    "import pyomo.environ as pyo\n",
    "from concurrent.futures import ProcessPoolExecutor, as_completed\n",
    "starttime = datetime.datetime.now()\n",
    "max_min_E_list_fixed = pd.DataFrame()\n",
    "\n",
    "with ProcessPoolExecutor() as executor:\n",
    "    futures = {executor.submit(Get_Max_Min_E,Concretemodel_Need_Data,eachreaction,'maximize',K_value,B_value,\\\n",
    "                    max_biomass_under_mdf,biomass_id,E_total,substrate_name,substrate_value,'gurobi'): eachreaction for eachreaction in enz_use_reaction_list}\n",
    "    for future in as_completed(futures):\n",
    "        tmp = future.result()\n",
    "        for eachindex in tmp.index:\n",
    "            #print(eachindex,tmp.loc[eachindex,'max_value'])\n",
    "            max_min_E_list_fixed.loc[eachindex,'max_E']=tmp.loc[eachindex,'max_value']\n",
    "\n",
    "with ProcessPoolExecutor() as executor:\n",
    "    futures = {executor.submit(Get_Max_Min_E,Concretemodel_Need_Data,eachreaction,'minimize',K_value,B_value,\\\n",
    "                    max_biomass_under_mdf,biomass_id,E_total,substrate_name,substrate_value,'gurobi'): eachreaction for eachreaction in enz_use_reaction_list}\n",
    "    for future in as_completed(futures):\n",
    "        tmp = future.result()\n",
    "        for eachindex in tmp.index:\n",
    "            #print(eachindex,tmp.loc[eachindex,'max_value'])\n",
    "            max_min_E_list_fixed.loc[eachindex,'min_E']=tmp.loc[eachindex,'min_value']\n",
    "endtime = datetime.datetime.now()\n",
    "print (endtime - starttime)\n",
    "max_min_E_list_fixed.to_csv('./Analysis Result/max_min_E.csv', sep=',', header=True, index=True,mode='w')\n"
   ]
  },
  {
   "cell_type": "code",
   "execution_count": 21,
   "metadata": {},
   "outputs": [
    {
     "output_type": "execute_result",
     "data": {
      "text/plain": "                  max_E     min_E\nPDH            0.006024  0.006009\nPPND           0.005076  0.005071\nADSS           0.004071  0.004065\nCS             0.003954  0.003927\nDDPA           0.003415  0.003413\nACONTa         0.003204  0.003182\nICL            0.003069  0.003036\nGND            0.002832  0.002800\nPGK_reverse    0.002667  0.002657\nPFK            0.002305  0.002299\nPYK            0.002085  0.002081\nPSERT          0.002024  0.002018\nTPI            0.001904  0.001898\nKARA1_reverse  0.001704  0.001701\nPSP_L          0.001660  0.001655\nSADT2          0.001613  0.001611\nFADRx          0.001612  0.001607\nG6PDH2r        0.001577  0.001558\nCTPS2          0.001530  0.001523\nPRFGS          0.001526  0.001525\nSULR           0.001488  0.001486\nSUCDi          0.001451  0.001425\nCYTBO3_4pp     0.001374  0.001373\nNADH16pp       0.001326  0.001325\nASPTA_reverse  0.001296  0.001286\nAIRC2          0.001178  0.001177",
      "text/html": "<div>\n<style scoped>\n    .dataframe tbody tr th:only-of-type {\n        vertical-align: middle;\n    }\n\n    .dataframe tbody tr th {\n        vertical-align: top;\n    }\n\n    .dataframe thead th {\n        text-align: right;\n    }\n</style>\n<table border=\"1\" class=\"dataframe\">\n  <thead>\n    <tr style=\"text-align: right;\">\n      <th></th>\n      <th>max_E</th>\n      <th>min_E</th>\n    </tr>\n  </thead>\n  <tbody>\n    <tr>\n      <th>PDH</th>\n      <td>0.006024</td>\n      <td>0.006009</td>\n    </tr>\n    <tr>\n      <th>PPND</th>\n      <td>0.005076</td>\n      <td>0.005071</td>\n    </tr>\n    <tr>\n      <th>ADSS</th>\n      <td>0.004071</td>\n      <td>0.004065</td>\n    </tr>\n    <tr>\n      <th>CS</th>\n      <td>0.003954</td>\n      <td>0.003927</td>\n    </tr>\n    <tr>\n      <th>DDPA</th>\n      <td>0.003415</td>\n      <td>0.003413</td>\n    </tr>\n    <tr>\n      <th>ACONTa</th>\n      <td>0.003204</td>\n      <td>0.003182</td>\n    </tr>\n    <tr>\n      <th>ICL</th>\n      <td>0.003069</td>\n      <td>0.003036</td>\n    </tr>\n    <tr>\n      <th>GND</th>\n      <td>0.002832</td>\n      <td>0.002800</td>\n    </tr>\n    <tr>\n      <th>PGK_reverse</th>\n      <td>0.002667</td>\n      <td>0.002657</td>\n    </tr>\n    <tr>\n      <th>PFK</th>\n      <td>0.002305</td>\n      <td>0.002299</td>\n    </tr>\n    <tr>\n      <th>PYK</th>\n      <td>0.002085</td>\n      <td>0.002081</td>\n    </tr>\n    <tr>\n      <th>PSERT</th>\n      <td>0.002024</td>\n      <td>0.002018</td>\n    </tr>\n    <tr>\n      <th>TPI</th>\n      <td>0.001904</td>\n      <td>0.001898</td>\n    </tr>\n    <tr>\n      <th>KARA1_reverse</th>\n      <td>0.001704</td>\n      <td>0.001701</td>\n    </tr>\n    <tr>\n      <th>PSP_L</th>\n      <td>0.001660</td>\n      <td>0.001655</td>\n    </tr>\n    <tr>\n      <th>SADT2</th>\n      <td>0.001613</td>\n      <td>0.001611</td>\n    </tr>\n    <tr>\n      <th>FADRx</th>\n      <td>0.001612</td>\n      <td>0.001607</td>\n    </tr>\n    <tr>\n      <th>G6PDH2r</th>\n      <td>0.001577</td>\n      <td>0.001558</td>\n    </tr>\n    <tr>\n      <th>CTPS2</th>\n      <td>0.001530</td>\n      <td>0.001523</td>\n    </tr>\n    <tr>\n      <th>PRFGS</th>\n      <td>0.001526</td>\n      <td>0.001525</td>\n    </tr>\n    <tr>\n      <th>SULR</th>\n      <td>0.001488</td>\n      <td>0.001486</td>\n    </tr>\n    <tr>\n      <th>SUCDi</th>\n      <td>0.001451</td>\n      <td>0.001425</td>\n    </tr>\n    <tr>\n      <th>CYTBO3_4pp</th>\n      <td>0.001374</td>\n      <td>0.001373</td>\n    </tr>\n    <tr>\n      <th>NADH16pp</th>\n      <td>0.001326</td>\n      <td>0.001325</td>\n    </tr>\n    <tr>\n      <th>ASPTA_reverse</th>\n      <td>0.001296</td>\n      <td>0.001286</td>\n    </tr>\n    <tr>\n      <th>AIRC2</th>\n      <td>0.001178</td>\n      <td>0.001177</td>\n    </tr>\n  </tbody>\n</table>\n</div>"
     },
     "metadata": {},
     "execution_count": 21
    }
   ],
   "source": [
    "max_min_E_list_fixed.sort_values(by='max_E',ascending = False)"
   ]
  },
  {
   "cell_type": "code",
   "execution_count": null,
   "metadata": {
    "collapsed": true
   },
   "outputs": [],
   "source": []
  }
 ],
 "metadata": {
  "kernelspec": {
   "display_name": "Python 3.5.5 64-bit ('ETGEMs': conda)",
   "language": "python",
   "name": "python_defaultSpec_1598856311138"
  },
  "language_info": {
   "codemirror_mode": {
    "name": "ipython",
    "version": 3
   },
   "file_extension": ".py",
   "mimetype": "text/x-python",
   "name": "python",
   "nbconvert_exporter": "python",
   "pygments_lexer": "ipython3",
   "version": "3.5.5-final"
  }
 },
 "nbformat": 4,
 "nbformat_minor": 2
}